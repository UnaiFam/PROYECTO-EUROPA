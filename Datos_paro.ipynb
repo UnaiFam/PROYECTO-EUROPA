{
 "cells": [
  {
   "cell_type": "code",
   "execution_count": null,
   "id": "04097840",
   "metadata": {},
   "outputs": [],
   "source": [
    "import pandas as pd\n",
    "import datetime as dt\n",
    "from dateutil import parser\n",
    "\n"
   ]
  },
  {
   "cell_type": "code",
   "execution_count": 70,
   "id": "a721e6a1",
   "metadata": {},
   "outputs": [],
   "source": [
    "# Carga de los csv\n",
    "\n",
    "df_paro_2024 = pd.read_csv(\"C:/Users/ferna/Downloads/Paro_por_municipios_2024_csv.csv\",\n",
    "                           header = 1, sep=\";\", encoding=\"latin1\")\n",
    "\n",
    "df_paro_2019 = pd.read_csv(\"C:/Users/ferna/Downloads/Paro_por_municipios_2019_csv.csv\",\n",
    "                           header = 1, sep=\";\", encoding=\"latin1\")\n",
    "\n",
    "df_paro_2014 = pd.read_csv(\"C:/Users/ferna/Downloads/Paro_por_municipios_2014_csv.csv\",\n",
    "                           header = 1, sep=\";\", encoding=\"latin1\")"
   ]
  },
  {
   "cell_type": "code",
   "execution_count": 71,
   "id": "8bdbfa07",
   "metadata": {},
   "outputs": [],
   "source": [
    "# Definicion de una funcion que genere una columna de mes y año\n",
    "\n",
    "def fecha_maker(x):\n",
    "    # Conversion del valor en string\n",
    "    x[\"mes\"] = x[\"mes\"].astype(\"str\")\n",
    "    # Creacion de la columna año\n",
    "    x[\"año\"] = x[\"mes\"].apply(lambda x: x.split(\"de\")[-1])\n",
    "    # Creacion de la columna mes\n",
    "    x[\"mes\"] = x[\"mes\"].apply(lambda x: x.split(\"de\")[0])\n",
    "    \n",
    "    return x"
   ]
  },
  {
   "cell_type": "code",
   "execution_count": 72,
   "id": "73d9cd60",
   "metadata": {},
   "outputs": [],
   "source": [
    "# Creacion de las columnas de mes y año\n",
    "\n",
    "df_paro_2024 = fecha_maker(df_paro_2024)\n",
    "\n",
    "df_paro_2019 = fecha_maker(df_paro_2019)\n",
    "\n",
    "df_paro_2014 = fecha_maker(df_paro_2014)\n"
   ]
  },
  {
   "cell_type": "code",
   "execution_count": 74,
   "id": "bb54faad",
   "metadata": {},
   "outputs": [],
   "source": [
    "# Generación de los csv\n",
    "\n",
    "df_paro_2024.to_csv(\"datos_paro_2024.csv\")\n",
    "df_paro_2019.to_csv(\"datos_paro_2019.csv\")\n",
    "df_paro_2014.to_csv(\"datos_paro_2014.csv\")"
   ]
  }
 ],
 "metadata": {
  "kernelspec": {
   "display_name": "Python 3",
   "language": "python",
   "name": "python3"
  },
  "language_info": {
   "codemirror_mode": {
    "name": "ipython",
    "version": 3
   },
   "file_extension": ".py",
   "mimetype": "text/x-python",
   "name": "python",
   "nbconvert_exporter": "python",
   "pygments_lexer": "ipython3",
   "version": "3.11.9"
  }
 },
 "nbformat": 4,
 "nbformat_minor": 5
}
