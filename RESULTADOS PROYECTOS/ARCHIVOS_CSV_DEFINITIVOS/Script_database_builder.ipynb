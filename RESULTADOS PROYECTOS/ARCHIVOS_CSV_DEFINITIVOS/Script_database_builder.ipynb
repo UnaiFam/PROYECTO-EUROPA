{
 "cells": [
  {
   "cell_type": "code",
   "execution_count": 5,
   "id": "14308419",
   "metadata": {},
   "outputs": [],
   "source": [
    "# CONEXION CON AIVEN y Mysql\n",
    "\n",
    "# %pip install --upgrade pip\n",
    "\n",
    "#%pip install sqlalchemy\n",
    "#%pip install mysqlclient\n",
    "#%pip install pymysql\n",
    "#%pip install cryptography"
   ]
  },
  {
   "cell_type": "code",
   "execution_count": 1,
   "id": "5621ba3b",
   "metadata": {},
   "outputs": [],
   "source": [
    "# Librerias necesarias para conexion con Mysql\n",
    "from sqlalchemy import create_engine\n",
    "import pandas as pd"
   ]
  },
  {
   "cell_type": "code",
   "execution_count": 3,
   "id": "0e7635f9",
   "metadata": {},
   "outputs": [],
   "source": [
    "# Creacion de dataFrames a partir de los archivos csv\n",
    "\n",
    "#df_comunidad = pd.read_csv(\"COMUNIDAD.csv\")\n",
    "\n",
    "df_datosPartidos = pd.read_csv(\"DATOS_PARTIDO.csv\")\n",
    "\n",
    "# df_nombrePartidos = pd.read_csv(\"NOMBRE_PARTIDO.csv\")\n",
    "\n",
    "#df_paro = pd.read_csv(\"PARO.csv\")\n",
    "\n",
    "#df_partidosPoliticos = pd.read_csv(\"Partidos_politicos.csv\")\n",
    "\n",
    "#df_provincia = pd.read_csv(\"PROVINCIA.csv\")\n",
    "\n",
    "#df_renta = pd.read_csv(\"RENTA.csv\")\n",
    "\n",
    "#df_votosProvincia = pd.read_csv(\"VOTOS_PROVINCIA.csv\")\n"
   ]
  },
  {
   "cell_type": "code",
   "execution_count": null,
   "id": "524ec2db",
   "metadata": {},
   "outputs": [],
   "source": [
    "# CONEXION A LA BASE DE DATOS\n",
    "\n",
    "engine = create_engine()\n",
    "con = engine.connect()\n"
   ]
  },
  {
   "cell_type": "code",
   "execution_count": 11,
   "id": "e59aa8bf",
   "metadata": {},
   "outputs": [
    {
     "data": {
      "text/plain": [
       "5408"
      ]
     },
     "execution_count": 11,
     "metadata": {},
     "output_type": "execute_result"
    }
   ],
   "source": [
    "# SUBIDA A Mysql\n",
    "\n",
    "#df_comunidad.to_sql(\"COMUNIDAD\", con=engine, index=False, if_exists=\"replace\")\n",
    "df_datosPartidos.to_sql(\"DATOS_PARTIDOS\", con=engine, index=False, if_exists=\"replace\")\n",
    "#df_nombrePartidos.to_sql(\"NOMBRE_PARTIDOS\", con=engine, index=False, if_exists=\"replace\")\n",
    "#df_renta.to_sql(\"RENTA\", con=engine, index=False, if_exists=\"replace\")\n",
    "#df_paro.to_sql(\"PARO\", con=engine, index=False, if_exists=\"replace\")\n",
    "#df_partidosPoliticos.to_sql(\"PARTIDOS_POLITICOS\", con=engine, index=False, if_exists=\"replace\")\n",
    "#df_provincia.to_sql(\"PROVINCIA\", con=engine, index=False, if_exists=\"replace\")\n",
    "#df_votosProvincia.to_sql(\"VOTOS_PROVINCIA\", con=engine, index=False, if_exists=\"replace\")\n"
   ]
  },
  {
   "cell_type": "code",
   "execution_count": 12,
   "id": "cdbe2e3c",
   "metadata": {},
   "outputs": [],
   "source": [
    "con.close()"
   ]
  },
  {
   "cell_type": "code",
   "execution_count": null,
   "id": "457d6cf9",
   "metadata": {},
   "outputs": [],
   "source": []
  }
 ],
 "metadata": {
  "kernelspec": {
   "display_name": "Python 3",
   "language": "python",
   "name": "python3"
  },
  "language_info": {
   "codemirror_mode": {
    "name": "ipython",
    "version": 3
   },
   "file_extension": ".py",
   "mimetype": "text/x-python",
   "name": "python",
   "nbconvert_exporter": "python",
   "pygments_lexer": "ipython3",
   "version": "3.11.9"
  }
 },
 "nbformat": 4,
 "nbformat_minor": 5
}
